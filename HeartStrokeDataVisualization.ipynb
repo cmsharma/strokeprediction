{
  "nbformat": 4,
  "nbformat_minor": 0,
  "metadata": {
    "colab": {
      "name": "HeartStrokeDataVisualization.ipynb",
      "provenance": [],
      "collapsed_sections": []
    },
    "kernelspec": {
      "display_name": "Python 3",
      "name": "python3"
    }
  },
  "cells": [
    {
      "cell_type": "code",
      "metadata": {
        "id": "lJTeaakZeukX"
      },
      "source": [
        "# Importing the necessary libraries \r\n",
        "\r\n",
        "import pandas as pd\r\n",
        "import numpy as np\r\n",
        "import matplotlib.pyplot as plt\r\n",
        "import seaborn as sns"
      ],
      "execution_count": 4,
      "outputs": []
    },
    {
      "cell_type": "code",
      "metadata": {
        "id": "oziNOwB1mRuL"
      },
      "source": [
        "# Uploadding the firl from local drive\r\n",
        "# link of the data set - https://www.kaggle.com/fedesoriano/stroke-prediction-dataset?select=healthcare-dataset-stroke-data.csv\r\n",
        "from google.colab import files\r\n",
        "uploaded = files.upload()"
      ],
      "execution_count": null,
      "outputs": []
    },
    {
      "cell_type": "code",
      "metadata": {
        "id": "_PgGhQOCl1u3"
      },
      "source": [
        "# Reading the data from csv file\r\n",
        "#data=pd.read_csv(\"data.csv\")\r\n",
        "data=pd.read_csv(\"healthcare-dataset-stroke-data.csv\")"
      ],
      "execution_count": 6,
      "outputs": []
    },
    {
      "cell_type": "code",
      "metadata": {
        "id": "DCTM97W8ngwR"
      },
      "source": [
        "#View the whole data\r\n",
        "data"
      ],
      "execution_count": null,
      "outputs": []
    },
    {
      "cell_type": "code",
      "metadata": {
        "colab": {
          "background_save": true
        },
        "id": "V2KACIJpYLkX"
      },
      "source": [
        "# Statistical analysis on numerical values\r\n",
        "data.describe()"
      ],
      "execution_count": null,
      "outputs": []
    },
    {
      "cell_type": "code",
      "metadata": {
        "colab": {
          "background_save": true
        },
        "id": "yC6rVBYum5MK"
      },
      "source": [
        "#Concise summary about the data\r\n",
        "data.info()"
      ],
      "execution_count": null,
      "outputs": []
    },
    {
      "cell_type": "code",
      "metadata": {
        "colab": {
          "background_save": true
        },
        "id": "RGaaZO2NGJDJ"
      },
      "source": [
        "# Checking the data types of each column\r\n",
        "data.dtypes"
      ],
      "execution_count": null,
      "outputs": []
    },
    {
      "cell_type": "code",
      "metadata": {
        "colab": {
          "background_save": true
        },
        "id": "a_0QYAohGIfR"
      },
      "source": [
        "# PrintChecking total missing values for overall dataset\r\n",
        "print(data.isna().sum().sum())"
      ],
      "execution_count": null,
      "outputs": []
    },
    {
      "cell_type": "code",
      "metadata": {
        "colab": {
          "background_save": true
        },
        "id": "k4lI5-HSGZN8"
      },
      "source": [
        "# Checking missing values in particular column\r\n",
        "# print(data.columns)\r\n",
        "print(data.isna().sum())"
      ],
      "execution_count": null,
      "outputs": []
    },
    {
      "cell_type": "code",
      "metadata": {
        "colab": {
          "background_save": true
        },
        "id": "bKek1FABGfow"
      },
      "source": [
        "# Filling missing values\r\n",
        "df=pd.DataFrame(data[\"bmi\"].fillna(data[\"bmi\"].mean()))"
      ],
      "execution_count": null,
      "outputs": []
    },
    {
      "cell_type": "code",
      "metadata": {
        "colab": {
          "background_save": true
        },
        "id": "9C5QAiWIGwrF"
      },
      "source": [
        "#Findng the correlation in data set\r\n",
        "data.corr()"
      ],
      "execution_count": null,
      "outputs": []
    },
    {
      "cell_type": "code",
      "metadata": {
        "colab": {
          "background_save": true
        },
        "id": "FBjSzwI9GGRh"
      },
      "source": [
        "#sns.distplot(data.age)\r\n",
        "plt.hist(data.age)"
      ],
      "execution_count": null,
      "outputs": []
    },
    {
      "cell_type": "code",
      "metadata": {
        "colab": {
          "background_save": true
        },
        "id": "laal2Jb0tLE2"
      },
      "source": [
        "# Create the boxplot for age\r\n",
        "fig = plt.figure()\r\n",
        "# Create an axes instance\r\n",
        "ax = fig.add_axes([0,0,1,1])\r\n",
        "ax.boxplot([data[\"age\"]])\r\n",
        "plt.show()"
      ],
      "execution_count": null,
      "outputs": []
    },
    {
      "cell_type": "code",
      "metadata": {
        "id": "sSwWAgRjBlka"
      },
      "source": [
        "# Through scatter Plot\r\n",
        "plt.scatter(data[\"age\"], data[\"gender\"])"
      ],
      "execution_count": null,
      "outputs": []
    },
    {
      "cell_type": "code",
      "metadata": {
        "id": "4J52WMbVEyVR"
      },
      "source": [
        "# Finding the Gender with number\r\n",
        "dg=data.groupby([\"gender\"]).size()\r\n",
        "print(dg)\r\n",
        "# Drwaing the bar chart according to genders\r\n",
        "#fig = plt.figure()\r\n",
        "#fig.patch.set_facecolor('xkcd:light gray')\r\n",
        "dg.plot(kind=\"bar\", width=0.3, color=[\"hotpink\", \"blue\", \"black\"])\r\n",
        "plt.title(\"Total Population based on Genders\", fontweight='bold')\r\n",
        "plt.xlabel(\"Gender\")\r\n",
        "plt.ylabel(\"Number of male/female\")\r\n",
        "plt.grid(True, color='green')\r\n",
        "plt.show()"
      ],
      "execution_count": null,
      "outputs": []
    },
    {
      "cell_type": "code",
      "metadata": {
        "id": "GZgVZwIQ9_86"
      },
      "source": [
        "#group_data=pd.DataFrame(pd.qcut(data[\"age\"], q= 10))\r\n",
        "# Relationship through Scatter graph between age and stroke\r\n",
        "plt.title(\"Relationship between Age and Stroke\")\r\n",
        "plt.xlabel(\"Age ----------------------------------> \")\r\n",
        "plt.ylabel(\"Stroke ( 0-No and 1-Yes ) ------------>\")\r\n",
        "plt.scatter(data.age, data.stroke)"
      ],
      "execution_count": null,
      "outputs": []
    },
    {
      "cell_type": "code",
      "metadata": {
        "colab": {
          "background_save": true
        },
        "id": "Ns5UY_54YGtu"
      },
      "source": [
        "# Data for stroke\r\n",
        "ds=data.groupby([\"stroke\"]).size()\r\n",
        "print(ds)\r\n",
        "# Graph for showing stroke\r\n",
        "ds.plot(kind=\"bar\", width=0.2, color=[\"Green\", \"Red\"])\r\n",
        "plt.title(\"Population grouped by Stroke\")\r\n",
        "plt.ylabel(\"Number of male/female\")\r\n",
        "plt.grid(True, color='grey')\r\n",
        "plt.show()"
      ],
      "execution_count": null,
      "outputs": []
    },
    {
      "cell_type": "code",
      "metadata": {
        "colab": {
          "background_save": true
        },
        "id": "iGAsWAicEx1v"
      },
      "source": [
        "# Dividing the Age into intervals and drawing Bar chart\r\n",
        "# group_data.groupby(\"age\").size()\r\n",
        "group_data = pd.DataFrame(pd.cut(data[\"age\"], bins = [0, 15, 30, 45, 60 , 75 ,90 ]))\r\n",
        "da=group_data.groupby(\"age\").size()\r\n",
        "print(da)\r\n",
        "# Drawing the bar chart of age with intervals\r\n",
        "da.plot(kind=\"bar\", color=[\"red\", \"green\", \"blue\", \"yellow\", \"hotpink\", \"black\"])\r\n",
        "plt.title(\"Persons grouped by Age\")\r\n",
        "plt.xlabel(\"Grouping with Age\")\r\n",
        "plt.ylabel(\"Number of male/female\")\r\n",
        "plt.grid(True, color='grey')\r\n",
        "plt.show()"
      ],
      "execution_count": null,
      "outputs": []
    },
    {
      "cell_type": "code",
      "metadata": {
        "colab": {
          "background_save": true
        },
        "id": "7FshQPpUYlSm"
      },
      "source": [
        "#Relationship between gender and stroke\r\n",
        "dgs=data.groupby([\"gender\", \"stroke\"]).size()\r\n",
        "print(dgs)\r\n",
        "#bar Chart for relationship between gender and stroke\r\n",
        "dgs.plot(kind=\"bar\", width=0.5, color=[\"green\", \"red\"])\r\n",
        "plt.grid(True, color='grey')\r\n",
        "plt.title(\"Population grouped by Gender and residence Type\")\r\n",
        "plt.ylabel(\"Number of male/female\")\r\n",
        "plt.grid(True, color='grey')\r\n",
        "plt.show()"
      ],
      "execution_count": null,
      "outputs": []
    },
    {
      "cell_type": "code",
      "metadata": {
        "colab": {
          "background_save": true
        },
        "id": "l9V0bsqPHhwD"
      },
      "source": [
        "#Groupin the data by residence type\r\n",
        "drt=data.groupby([\"Residence_type\"]).size()\r\n",
        "print(drt)\r\n",
        "# Data acoording to residence type\r\n",
        "drt.plot(kind=\"bar\", width=0.2, color=[\"green\", \"blue\"])\r\n",
        "plt.grid(True, color='grey')\r\n",
        "plt.title(\"Population grouped by  residence Type\")\r\n",
        "plt.label(\"Number of male/female\")\r\n",
        "plt.ylabel(\"Number of male/female\")\r\n",
        "plt.grid(True, color='grey')\r\n",
        "plt.show()"
      ],
      "execution_count": null,
      "outputs": []
    },
    {
      "cell_type": "code",
      "metadata": {
        "id": "2H-UbvBvaPYx"
      },
      "source": [
        "# Relationship with Residence and stroke\r\n",
        "drts=data.groupby([\"Residence_type\", \"stroke\"]).size()\r\n",
        "print(drts)\r\n",
        "# Relationship with Residence and stroke\r\n",
        "drts.plot(kind=\"bar\", width=0.8, color=[\"Green\", \"Red\"])\r\n",
        "plt.title(\"Population grouped by residence Type and Stroke\")\r\n",
        "plt.xlabel(\"Residence Type and Stroke\")\r\n",
        "plt.ylabel(\"Number of male/female\")\r\n",
        "plt.grid(True, color='grey')\r\n",
        "plt.show()"
      ],
      "execution_count": null,
      "outputs": []
    },
    {
      "cell_type": "code",
      "metadata": {
        "id": "I31P0lARebau"
      },
      "source": [
        "#Relationship between gender and residence type\r\n",
        "dgrt=data.groupby([\"gender\", \"Residence_type\"]).size()\r\n",
        "print(dgrt)\r\n",
        "# Graph for showing relationship between gender and residence type\r\n",
        "dgrt.plot(kind=\"bar\", width=0.5, color=[\"red\", \"green\", \"blue\", \"yellow\", \"hotpink\"])\r\n",
        "plt.grid(True, color='grey')\r\n",
        "plt.title(\"Population grouped by Gender and residence Type\")\r\n",
        "plt.xlabel(\"Gender and residence Type\")\r\n",
        "plt.ylabel(\"Number of male/female\")\r\n",
        "plt.grid(True, color='grey')\r\n",
        "plt.show()"
      ],
      "execution_count": null,
      "outputs": []
    },
    {
      "cell_type": "code",
      "metadata": {
        "colab": {
          "background_save": true
        },
        "id": "VsOCiOQ0flHD"
      },
      "source": [
        "#Relationship between gender, residence type and stroke\r\n",
        "dgrts=data.groupby([\"gender\", \"Residence_type\", \"stroke\"]).size()\r\n",
        "print(dgrts)\r\n",
        "#Graph for relationship between gender, residence type and stroke\r\n",
        "dgrts.plot(kind=\"bar\", width=0.5, color=[\"green\", \"red\"])\r\n",
        "plt.title(\"Population grouped by Gender,  residence Type and Stroke\")\r\n",
        "plt.ylabel(\"Number of male/female\")\r\n",
        "plt.grid(True, color='grey')\r\n",
        "plt.show()"
      ],
      "execution_count": null,
      "outputs": []
    },
    {
      "cell_type": "code",
      "metadata": {
        "id": "rOePP_VEgLVk"
      },
      "source": [
        "# Relationship between gender, residence type work type and stroke\r\n",
        "dgrws=data.groupby([\"gender\", \"Residence_type\", \"work_type\", \"stroke\"]).size()\r\n",
        "print(dgrws)\r\n",
        "# Graph for relationship between gender, residence type work type and stroke\r\n",
        "dgrws.plot(kind=\"bar\", width=0.5 , color=[\"green\", \"red\"])\r\n",
        "plt.title(\"Population grouped by Gender, residence Type, Work Type and Stroke\")\r\n",
        "plt.ylabel(\"Number of male/female\")\r\n",
        "plt.grid(True, color='grey')\r\n",
        "plt.show()"
      ],
      "execution_count": null,
      "outputs": []
    },
    {
      "cell_type": "code",
      "metadata": {
        "id": "KiDYRGj7bdFV"
      },
      "source": [
        "#Age wise distribution of Male/Female having Stroke. \r\n",
        "fig, ax = plt.subplots(1, 2, sharex=True, figsize=(15,6))\r\n",
        "ax[0].hist(data.query(\"stroke==1 & gender=='Male'\")['age'])\r\n",
        "ax[0].set_title('Age wise distribution of Males having heart strokes')\r\n",
        "ax[1].hist(data.query(\"stroke==1 & gender=='Female'\")['age'])\r\n",
        "ax[1].set_title('Age wise distribution of Females having heart strokes')"
      ],
      "execution_count": null,
      "outputs": []
    },
    {
      "cell_type": "code",
      "metadata": {
        "id": "aOSmxO5BuKdD"
      },
      "source": [
        "#Age wise distribution of Male/Female having Stroke with and without hypertension. \r\n",
        "fig, ax = plt.subplots(2, 2, figsize=(15,7))\r\n",
        "ax[0,0].hist(data.query(\"stroke==1 & gender=='Male' & hypertension==0 \")['age'])\r\n",
        "ax[0,0].set_title('Age wise distribution of Males having heart strokes without hypertension')\r\n",
        "ax[0,1].hist(data.query(\"stroke==1 & gender=='Female' & hypertension==0 \")['age'])\r\n",
        "ax[0,1].set_title('Age wise distribution of Females having heart strokes without hypertension')\r\n",
        "ax[1,0].hist(data.query(\"stroke==1 & gender=='Male' & hypertension==1 \")['age'])\r\n",
        "ax[1,0].set_title('Age wise distribution of Males having heart strokes with hypertension')\r\n",
        "ax[1,1].hist(data.query(\"stroke==1 & gender=='Female' & hypertension==1 \")['age'])\r\n",
        "ax[1,1].set_title('Age wise distribution of Females having heart strokes with hypertension')"
      ],
      "execution_count": null,
      "outputs": []
    },
    {
      "cell_type": "code",
      "metadata": {
        "id": "gz7xNccSS5ho"
      },
      "source": [
        "#Age wise distribution of heart stroke in Male/Female with and without hypertension and heart diseases. \r\n",
        "fig, ax = plt.subplots(4, 2, figsize=(20,17))\r\n",
        "ax[0,0].hist(data.query(\"stroke==1 & gender=='Male' & hypertension==0 & heart_disease==0\")['age'])\r\n",
        "ax[0,0].set_title('Age wise distribution of Males having strokes without hypertension & Heart Diseases')\r\n",
        "ax[0,1].hist(data.query(\"stroke==1 & gender=='Male' & hypertension==0 & heart_disease==1\")['age'])\r\n",
        "ax[0,1].set_title('Age wise distribution of Males having strokes without hypertension & with Heart Diseases')\r\n",
        "ax[1,0].hist(data.query(\"stroke==1 & gender=='Male' & hypertension==1 & heart_disease==0\")['age'])\r\n",
        "ax[1,0].set_title('Age wise distribution of Males having strokes with hypertension & wothout Heart Diseases')\r\n",
        "ax[1,1].hist(data.query(\"stroke==1 & gender=='Male' & hypertension==1 & heart_disease==1\")['age'])\r\n",
        "ax[1,1].set_title('Age wise distribution of Males having strokes with hypertension Heart Diseases')\r\n",
        "ax[2,0].hist(data.query(\"stroke==1 & gender=='Female' & hypertension==0 & heart_disease==0\")['age'])\r\n",
        "ax[2,0].set_title('Age wise distribution of Females having strokes without hypertension & Heart Diseases')\r\n",
        "ax[2,1].hist(data.query(\"stroke==1 & gender=='Female' & hypertension==0 & heart_disease==1\")['age'])\r\n",
        "ax[2,1].set_title('Age wise distribution of Females having strokes without hypertension & with Heart Diseases')\r\n",
        "ax[3,0].hist(data.query(\"stroke==1 & gender=='Female' & hypertension==1 & heart_disease==0\")['age'])\r\n",
        "ax[3,0].set_title('Age wise distribution of Females having strokes with hypertension & wothout Heart Diseases')\r\n",
        "ax[3,1].hist(data.query(\"stroke==1 & gender=='Female' & hypertension==1 & heart_disease==1\")['age'])\r\n",
        "ax[3,1].set_title('Age wise distribution of Femles having strokes with hypertension Heart Diseases')"
      ],
      "execution_count": null,
      "outputs": []
    },
    {
      "cell_type": "code",
      "metadata": {
        "id": "1l1TI-ULVn8f"
      },
      "source": [
        "#Work type distribution of heart stroke in Male/Female respect to the work type\r\n",
        "fig, ax = plt.subplots(1, 4, sharex=True, figsize=(18,7))\r\n",
        "ax[0].set_title('Stroke/Male/Urban')\r\n",
        "ax[0].hist(data.query(\"stroke==1 & gender=='Male' & Residence_type=='Urban'\")['work_type'])\r\n",
        "ax[1].set_title('Stroke/Male/Rural')\r\n",
        "ax[1].hist(data.query(\"stroke==1 & gender=='Male' & Residence_type=='Rural'\")['work_type'])\r\n",
        "ax[2].set_title('Stroke/Female/Urban')\r\n",
        "ax[2].hist(data.query(\"stroke==1 & gender=='Female' & Residence_type=='Urban'\")['work_type'])\r\n",
        "ax[3].set_title('Stroke/Female/Rural')\r\n",
        "ax[3].hist(data.query(\"stroke==1 & gender=='Female' & Residence_type=='Rural'\")['work_type'])"
      ],
      "execution_count": null,
      "outputs": []
    },
    {
      "cell_type": "code",
      "metadata": {
        "colab": {
          "background_save": true
        },
        "id": "TiKZMiMRkPSj"
      },
      "source": [
        "#Work type distribution of heart stroke in Male/Female respect to the residence type\r\n",
        "fig, ax = plt.subplots(1, 4, sharex=True, figsize=(20,12))\r\n",
        "ax[0].set_title('Stroke/Male/Urban')\r\n",
        "ax[0].hist(data.query(\"stroke==1 & gender=='Male' & Residence_type=='Urban'\")['heart_disease'])\r\n",
        "ax[1].set_title('Stroke/Male/Rural')\r\n",
        "ax[1].hist(data.query(\"stroke==1 & gender=='Male' & Residence_type=='Rural'\")['heart_disease'])\r\n",
        "ax[2].set_title('Stroke/Female/Urban')\r\n",
        "ax[2].hist(data.query(\"stroke==1 & gender=='Female' & Residence_type=='Urban'\")['heart_disease'])\r\n",
        "ax[3].set_title('Stroke/Female/Rural')\r\n",
        "ax[3].hist(data.query(\"stroke==1 & gender=='Female' & Residence_type=='Rural'\")['heart_disease'])"
      ],
      "execution_count": null,
      "outputs": []
    },
    {
      "cell_type": "code",
      "metadata": {
        "id": "HgAYiNraTwJG"
      },
      "source": [
        "plt.figure(figsize=(5,5))\r\n",
        "sns.pairplot(data)\r\n",
        "plt.show()"
      ],
      "execution_count": null,
      "outputs": []
    },
    {
      "cell_type": "code",
      "metadata": {
        "colab": {
          "background_save": true
        },
        "id": "7mo5R9TUw692"
      },
      "source": [
        "data.groupby([\"ever_married\"]).size()"
      ],
      "execution_count": null,
      "outputs": []
    },
    {
      "cell_type": "code",
      "metadata": {
        "colab": {
          "background_save": true
        },
        "id": "ei76q26UA4aZ"
      },
      "source": [
        "myexplode = [0.2, 0,]\r\n",
        "mylabels = [\"Yes - 3353\", \"No - 1757\"]\r\n",
        "data.groupby([\"ever_married\"]).size().plot(kind=\"pie\", labels = mylabels, explode = myexplode, shadow = True)\r\n",
        "plt.title(\"Population grouped by Married or Not\")\r\n",
        "plt.legend(title = \"Married or Not:\")\r\n",
        "plt.show()"
      ],
      "execution_count": null,
      "outputs": []
    },
    {
      "cell_type": "code",
      "metadata": {
        "colab": {
          "background_save": true
        },
        "id": "R0c2dtgCw6kZ"
      },
      "source": [
        "data.groupby([\"ever_married\"]).size().plot(kind=\"bar\", width=0.2)\r\n",
        "plt.title(\"Population grouped by Married or Not\")\r\n",
        "plt.ylabel(\"Number of male/female\")\r\n",
        "plt.grid(True, color='grey')\r\n",
        "plt.show()"
      ],
      "execution_count": null,
      "outputs": []
    },
    {
      "cell_type": "code",
      "metadata": {
        "id": "-nWxFs32ydUl"
      },
      "source": [
        "data.groupby([\"gender\", \"Residence_type\", \"work_type\", \"avg_glucose_level\",\"stroke\"]).size().plot(kind=\"bar\", width=0.8)\r\n",
        "plt.title(\"Population grouped by Gender, residence Type, Work Type, Average Glucose Level and Stroke\")\r\n",
        "plt.ylabel(\"Number of male/female\")\r\n",
        "plt.grid(True, color='grey')\r\n",
        "plt.show()"
      ],
      "execution_count": null,
      "outputs": []
    },
    {
      "cell_type": "code",
      "metadata": {
        "id": "3ne9l8377uVo"
      },
      "source": [
        "sns.pairplot(data)"
      ],
      "execution_count": null,
      "outputs": []
    },
    {
      "cell_type": "code",
      "metadata": {
        "id": "DNAbTLAy7tkm"
      },
      "source": [
        "sns.histplot(data.age)"
      ],
      "execution_count": null,
      "outputs": []
    },
    {
      "cell_type": "code",
      "metadata": {
        "id": "0K6R43la9e0U"
      },
      "source": [
        "fig, ax = plt.subplots(1, 2, sharex=True, figsize=(15,7))\r\n",
        "ax[0].hist(data.query(\"stroke==1 & gender=='Male'\")['age'])\r\n",
        "ax[0].set_title('Male Age wise distribution of heart strokes')\r\n",
        "#ax[0].xlabel(\"Number of Males\")\r\n",
        "ax[1].hist(data.query(\"stroke==1 & gender=='Female'\")['age'])\r\n",
        "ax[1].set_title('Female Age wise distribution of heart strokes')\r\n"
      ],
      "execution_count": null,
      "outputs": []
    }
  ]
}